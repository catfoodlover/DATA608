{
  "nbformat": 4,
  "nbformat_minor": 0,
  "metadata": {
    "colab": {
      "provenance": [],
      "authorship_tag": "ABX9TyPvrzPuBgGTPhYHrTcmqMsf",
      "include_colab_link": true
    },
    "kernelspec": {
      "name": "python3",
      "display_name": "Python 3"
    },
    "language_info": {
      "name": "python"
    }
  },
  "cells": [
    {
      "cell_type": "markdown",
      "metadata": {
        "id": "view-in-github",
        "colab_type": "text"
      },
      "source": [
        "<a href=\"https://colab.research.google.com/github/catfoodlover/DATA608/blob/main/Module4.ipynb\" target=\"_parent\"><img src=\"https://colab.research.google.com/assets/colab-badge.svg\" alt=\"Open In Colab\"/></a>"
      ]
    },
    {
      "cell_type": "code",
      "execution_count": 21,
      "metadata": {
        "colab": {
          "base_uri": "https://localhost:8080/",
          "height": 671
        },
        "id": "VX5Qq5l8r6Lf",
        "outputId": "bd472590-ccab-4e0e-f0df-8c849f3ecf65"
      },
      "outputs": [
        {
          "output_type": "display_data",
          "data": {
            "text/plain": [
              "<IPython.core.display.Javascript object>"
            ],
            "application/javascript": [
              "(async (port, path, width, height, cache, element) => {\n",
              "    if (!google.colab.kernel.accessAllowed && !cache) {\n",
              "      return;\n",
              "    }\n",
              "    element.appendChild(document.createTextNode(''));\n",
              "    const url = await google.colab.kernel.proxyPort(port, {cache});\n",
              "    const iframe = document.createElement('iframe');\n",
              "    iframe.src = new URL(path, url).toString();\n",
              "    iframe.height = height;\n",
              "    iframe.width = width;\n",
              "    iframe.style.border = 0;\n",
              "    element.appendChild(iframe);\n",
              "  })(8050, \"/\", \"100%\", 650, false, window.element)"
            ]
          },
          "metadata": {}
        }
      ],
      "source": [
        "#!pip install jupyter-dash\n",
        "import pandas as pd\n",
        "import numpy as np\n",
        "from jupyter_dash import JupyterDash\n",
        "from dash import dcc\n",
        "from dash import html\n",
        "\n",
        "\n",
        "soql_url = ('https://data.cityofnewyork.us/resource/nwxe-4ae8.json?' +\\\n",
        "        '$select=spc_common,boroname,health,steward,count(tree_id)' +\\\n",
        "        '&$group=spc_common,boroname,health,steward').replace(' ', '%20')\n",
        "\n",
        "\n",
        "tree_counts = pd.read_json(soql_url)\n",
        "\n",
        "#You have to drop missing values or the second graph wont load\n",
        "tree_counts = tree_counts.dropna()\n",
        "\n",
        "my_app = JupyterDash(__name__)\n",
        "\n",
        "my_app.layout = html.Div(children=[\n",
        "    html.H1(children = 'HEALTH OF NYC TREES'),\n",
        "    dcc.Dropdown(\n",
        "        id='dropdown-borough',\n",
        "        options=[{'label': i, 'value': i} for i in ['Bronx', 'Brooklyn', 'Manhattan', 'Queens', 'Staten Island']],\n",
        "        value='Queens', multi=False, placeholder='Filter By Borough'\n",
        "    ),\n",
        "    html.Div(id='output-borough'),\n",
        "    dcc.Dropdown(\n",
        "        id='dropdown-steward',\n",
        "        options=[{'label': i, 'value': i} for i in tree_counts['steward'].unique()],\n",
        "        value='None', multi=False, placeholder='Filter by Steward'\n",
        "    ),\n",
        "    html.Div(id='output-steward'),\n",
        "    ])\n",
        "\n",
        "@my_app.callback(\n",
        "        Output(component_id='output-borough', component_property='children'),\n",
        "        [Input(component_id='dropdown-borough', component_property='value')]\n",
        "        )\n",
        "\n",
        "def boro_graph(input_data):\n",
        "    df = tree_counts[tree_counts.boroname == input_data]\n",
        "    \n",
        "    return dcc.Graph(\n",
        "            id='Tree Health in Borough',\n",
        "            figure={\n",
        "                    'data':[\n",
        "              {'x':df['health'], 'type': 'histogram','name': 'Tree Health in Borough'}\n",
        "          ],\n",
        "          'layout':{\n",
        "              'title':\"Tree Health in Borough\"\n",
        "                  }\n",
        "          }\n",
        "              )\n",
        "\n",
        "@my_app.callback(\n",
        "        Output(component_id='output-steward', component_property='children'),\n",
        "        [Input(component_id='dropdown-steward', component_property='value')]\n",
        "        )\n",
        "\n",
        "def steward_graph(input_data):\n",
        "    df = tree_counts[tree_counts.steward == input_data]\n",
        "    \n",
        "    return dcc.Graph(\n",
        "            id='Health by Steward',\n",
        "            figure={\n",
        "                    'data':[\n",
        "              {'x':df['health'], 'type': 'histogram','name': 'Health by # Stewardship'}\n",
        "          ],\n",
        "          'layout':{\n",
        "              'title':\"Health by # Stewardship\"\n",
        "                  }\n",
        "          }\n",
        "              )\n",
        "\n",
        "\n",
        "#if __name__ == '__main__':\n",
        "my_app.run_server(mode='inline')\n",
        "    #my_app.run_server(host='0.0.0.0', port=8050, debug=True)"
      ]
    }
  ]
}